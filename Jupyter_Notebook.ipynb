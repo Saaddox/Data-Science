{
 "cells": [
  {
   "cell_type": "markdown",
   "metadata": {},
   "source": [
    "#### Add your code below following the instructions given in the course\n"
   ]
  },
  {
   "cell_type": "code",
   "execution_count": 1,
   "metadata": {},
   "outputs": [
    {
     "name": "stdout",
     "output_type": "stream",
     "text": [
      "hello\n"
     ]
    }
   ],
   "source": [
    "print(\"hello\")"
   ]
  },
  {
   "cell_type": "markdown",
   "metadata": {},
   "source": [
    "# Data Science\n",
    "*******"
   ]
  },
  {
   "cell_type": "markdown",
   "metadata": {},
   "source": [
    "Data science involves analyzing and interpreting datasets to uncover valuable insights that enable organizations to make informed and strategic decisions."
   ]
  },
  {
   "cell_type": "markdown",
   "metadata": {},
   "source": [
    "Data science is a rapidly growing field that requires proficiency in several programming languages. Here are some of the most commonly used data science languages, in order of popularity:\n",
    "\n",
    "1. Python\n",
    "2. R\n",
    "3. SQL\n",
    "4. Java\n",
    "5. MATLAB\n",
    "\n",
    "*****************"
   ]
  },
  {
   "cell_type": "markdown",
   "metadata": {},
   "source": [
    "Data science libraries are an essential part of any data scientist's toolkit. Here are some of the most popular data science libraries, in order of popularity:\n",
    "\n",
    "1. NumPy - a library for numerical computing in Python\n",
    "2. Pandas - a library for data manipulation and analysis in Python\n",
    "3. Matplotlib - a library for data visualization in Python\n",
    "4. Scikit-learn - a library for machine learning in Python\n",
    "5. TensorFlow - a library for deep learning in Python\n",
    "\n",
    "*****************"
   ]
  },
  {
   "cell_type": "markdown",
   "metadata": {},
   "source": [
    "| Tool            | Description                                                 |\n",
    "|----------------|-------------------------------------------------------------|\n",
    "| Python         | A popular general-purpose programming language for data science |\n",
    "| R              | A language and environment for statistical computing and graphics |\n",
    "| SQL            | A language used for managing and querying relational databases |\n",
    "| Excel          | A spreadsheet software used for data analysis and visualization |\n",
    "| Tableau        | A data visualization tool that allows for interactive exploration |\n",
    "| Apache Spark   | A fast and general-purpose distributed computing system |\n",
    "| Hadoop         | An open-source software framework used for distributed storage and processing of big data |\n",
    "| MATLAB         | A numerical computing environment and programming language |\n",
    "| Power BI       | A suite of business analytics tools for data visualization and analysis |\n",
    "| SAS            | A software suite for advanced analytics, business intelligence, and data management |\n",
    "| Jupyter Notebook | An open-source web application that allows you to create and share documents containing live code, equations, visualizations and narrative text |\n"
   ]
  },
  {
   "cell_type": "markdown",
   "metadata": {},
   "source": [
    "***********"
   ]
  },
  {
   "cell_type": "markdown",
   "metadata": {},
   "source": [
    "Arithmetic expressions are an essential part of mathematics and computer programming, as they allow for the manipulation and calculation of numerical values. Here are some examples of arithmetic expressions:\n",
    "\n",
    "- `2 + 3`: This expression adds the numbers 2 and 3 together, resulting in 5.\n",
    "- `5 - 2`: This expression subtracts the number 2 from 5, resulting in 3.\n",
    "- `3 * 4`: This expression multiplies the numbers 3 and 4 together, resulting in 12.\n",
    "- `10 / 5`: This expression divides the number 10 by 5, resulting in 2.\n",
    "- `7 % 2`: This expression performs the modulus operation on the numbers 7 and 2, resulting in 1 (the remainder of 7 divided by 2).\n",
    "- `(2 + 3) * 4`: This expression first adds 2 and 3 together, resulting in 5, and then multiplies the result by 4, resulting in 20.\n",
    "**************************"
   ]
  },
  {
   "cell_type": "code",
   "execution_count": 5,
   "metadata": {},
   "outputs": [
    {
     "name": "stdout",
     "output_type": "stream",
     "text": [
      "10\n"
     ]
    }
   ],
   "source": [
    "# multiply and add numbers\n",
    "x = 2\n",
    "y = 3\n",
    "z = x * y + 4\n",
    "\n",
    "print(z)\n"
   ]
  },
  {
   "cell_type": "code",
   "execution_count": 6,
   "metadata": {},
   "outputs": [
    {
     "name": "stdout",
     "output_type": "stream",
     "text": [
      "There are 2.0 hours in 120 minutes.\n"
     ]
    }
   ],
   "source": [
    "# convert minutes to hours\n",
    "minutes = 120\n",
    "hours = minutes / 60\n",
    "\n",
    "print(\"There are\", hours, \"hours in\", minutes, \"minutes.\")\n"
   ]
  },
  {
   "cell_type": "markdown",
   "metadata": {},
   "source": [
    "************************\n",
    "Here are some of the benefits of regular exercise:\n",
    "\n",
    "- Improves physical health by reducing the risk of chronic diseases\n",
    "- Boosts mood and mental health by reducing stress and anxiety\n",
    "- Increases energy levels and reduces fatigue\n",
    "- Promotes better sleep quality\n",
    "- Helps maintain a healthy weight and body composition\n",
    "- Improves overall quality of life by enhancing social connections and self-esteem\n",
    "*************************"
   ]
  },
  {
   "cell_type": "markdown",
   "metadata": {},
   "source": [
    "Author: AHMED SAID DAZZAZI\n"
   ]
  },
  {
   "cell_type": "code",
   "execution_count": null,
   "metadata": {},
   "outputs": [],
   "source": []
  }
 ],
 "metadata": {
  "kernelspec": {
   "display_name": "Python",
   "language": "python",
   "name": "conda-env-python-py"
  },
  "language_info": {
   "codemirror_mode": {
    "name": "ipython",
    "version": 3
   },
   "file_extension": ".py",
   "mimetype": "text/x-python",
   "name": "python",
   "nbconvert_exporter": "python",
   "pygments_lexer": "ipython3",
   "version": "3.7.12"
  }
 },
 "nbformat": 4,
 "nbformat_minor": 4
}
